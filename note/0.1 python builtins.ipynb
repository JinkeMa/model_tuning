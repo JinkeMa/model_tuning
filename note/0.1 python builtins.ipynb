{
 "cells": [
  {
   "cell_type": "code",
   "execution_count": null,
   "metadata": {},
   "outputs": [],
   "source": [
    "# 控制台...>cd d:\\GitRepos\\codeVCProjects 失败\n",
    "# 在输入上述命令并Enter之后，要再输入d:以切换盘符"
   ]
  },
  {
   "cell_type": "code",
   "execution_count": null,
   "metadata": {},
   "outputs": [],
   "source": [
    "'python类特殊成员 __call__'\n",
    "# 等价于C++中的operator(),让实例成为可调用对象callable\n",
    "class Callable:\n",
    "    def __init__(self) -> None:\n",
    "        pass\n",
    "    def __call__(self,string:str):\n",
    "        print(string)\n",
    "\n",
    "obj = Callable()\n",
    "obj('obj')"
   ]
  },
  {
   "cell_type": "code",
   "execution_count": null,
   "metadata": {},
   "outputs": [],
   "source": [
    "from typing import Optional\n",
    "\n",
    "# 通常在参数定义中使用,要么是int型的值,要么是None\n",
    "def func(arg : Optional[int])->None:\n",
    "    pass"
   ]
  },
  {
   "cell_type": "code",
   "execution_count": null,
   "metadata": {},
   "outputs": [],
   "source": [
    "'python 文件类型'\n",
    "\n",
    "# .pyi文件 存根文件\n",
    "# i:interface,类似于C++里的.h头文件，可以专门放函数/类的声明，\n",
    "# 真正的定义放到同目录下的同名.py文件中，类似于.cpp文件\n",
    "\n",
    "# 其主要的用处是：\n",
    "# 做静态类型检查，也就是在代码运行之前进行检查\n",
    "# python本身只有动态类型检查，只有代码运行的时候才能判断类型错误，对于大型项目来说，是很影响\n",
    "# 维护效率的，所有需要一个静态类型检查机制，这就是.pyi的真正作用\n",
    "# \n",
    "# .in文件\n",
    "#  \n",
    "# .pyd文件 python的动态链接库"
   ]
  },
  {
   "cell_type": "code",
   "execution_count": null,
   "metadata": {},
   "outputs": [],
   "source": [
    "'__all__'\n",
    "# 模糊导入。模块文件中设置了__all__变量，其他模块在以\n",
    "# from 模块名 import *的形式导入该模块时，只能使用__all__里设置的对象名\n",
    "# 以其他形式导入时，__all__不起作用，例如\n",
    "import 模块名\n",
    "from 模块名 import 对象名\n",
    "# 通常搭配getattr(模块名,对象名:str)来使用"
   ]
  },
  {
   "cell_type": "code",
   "execution_count": null,
   "metadata": {},
   "outputs": [],
   "source": [
    "' __init__.py'\n",
    "# 优雅的进行模块/函数/变量的导入\n",
    "# 当前文件夹下存在__init__.py文件时，当前文件夹自动变成一个package\n",
    "# 如下文件结构\n",
    "#   —— main.py\n",
    "#   —— pakage\n",
    "#   ———— __init__.py # from module1 import func1\n",
    "#   ———— module1.py  # 假设包含一个func1()\n",
    "#   ———— module2.py\n",
    "\n",
    "# 如果没有__init__.py，那么每次使用func1都需要import package.module1.func1很繁琐\n",
    "# \n",
    "# 导入一个包时，实际是导入了它的__init__.py文件\n",
    "# 这样的话，就可以在__init__.py批量导入import该package(该文件夹)下所有的子模块(.py文件)，\n",
    "# 省的一个一个单独导入\n",
    "# 如果用 下面的格式导入的话\n",
    "from 模块名 import *\n",
    "# 就需要在__init__.py中定义__all__ = []，一个List : str对象，注册所有的子模块\n"
   ]
  },
  {
   "cell_type": "code",
   "execution_count": 10,
   "metadata": {},
   "outputs": [],
   "source": [
    "'property 与 classproperty'\n",
    "# @property修饰的成员函数，会成为只读属性(函数定义内修改成员变量值会报错)\n",
    "# 访问test.x会触发被装饰的函数调用\n",
    "\n",
    "class Test:\n",
    "    def __init__(self):\n",
    "        self.x = 0\n",
    "    \n",
    "    @property # 当用classproperty装饰时，可以直接用类名访问，而不是必须用对象，类似于classmethod\n",
    "    def args(self):\n",
    "        print('invoking getx()')\n",
    "        return self.x\n",
    "    \n",
    "    @args.setter # python默认的形式\n",
    "    def args(self,x):\n",
    "        print('invoking setx')\n",
    "        self.x = x\n",
    "\n",
    "\n",
    "test = Test()\n",
    "test.x = 10"
   ]
  },
  {
   "cell_type": "code",
   "execution_count": null,
   "metadata": {},
   "outputs": [],
   "source": [
    "'''python内置函数\n",
    "A\n",
    "abs() aiter() all() any() anext() ascii()\n",
    "\n",
    "B\n",
    "bin() bool() breakpoint() bytearray() bytes()\n",
    "\n",
    "C\n",
    "callable() chr()\n",
    "\n",
    "classmethod() # 被@classmethod装饰的成员函数，可以用类名来调用，而不是必须对象\n",
    "compile() complex()\n",
    "\n",
    "\n",
    "D\n",
    "delattr() dict() dir() divmod()\n",
    "\n",
    "E\n",
    "enumerate() eval() exec()\n",
    "\n",
    "F\n",
    "filter() float() format() frozenset()\n",
    "\n",
    "G\n",
    "getattr(object,name : str) # 从模块中导入名为name的函数对象\n",
    "globals()\n",
    "\n",
    "H\n",
    "hasattr() hash() help() hex()\n",
    "\n",
    "I\n",
    "id() input() int() isinstance() issubclass() iter()\n",
    "L\n",
    "len() list() locals()\n",
    "\n",
    "M\n",
    "map() max() memoryview() min()\n",
    "\n",
    "N\n",
    "next()\n",
    "\n",
    "O\n",
    "object() oct() open() ord()\n",
    "\n",
    "P\n",
    "pow() print() property()\n",
    "\n",
    "R\n",
    "range() repr() reversed() round()\n",
    "\n",
    "S\n",
    "set() setattr() slice() sorted() staticmethod() str() sum() super()\n",
    "\n",
    "T\n",
    "tuple() type()\n",
    "\n",
    "V\n",
    "vars()\n",
    "\n",
    "Z\n",
    "zip()\n",
    "\n",
    "__import__()\n",
    "'''"
   ]
  },
  {
   "cell_type": "code",
   "execution_count": 4,
   "metadata": {},
   "outputs": [
    {
     "data": {
      "text/plain": [
       "'h:/wallpaper'"
      ]
     },
     "execution_count": 4,
     "metadata": {},
     "output_type": "execute_result"
    }
   ],
   "source": [
    "'join()函数'\n",
    "\n",
    "import os\n",
    "\n",
    "# str.join(iterable) strings in iterable\n",
    "concat = ' '.join(['I', 'will', 'succeed'])\n",
    "\n",
    "# os.path.join()\n",
    "concat = os.path.join('h:/','wallpaper')\n",
    "concat"
   ]
  }
 ],
 "metadata": {
  "kernelspec": {
   "display_name": "pytorch",
   "language": "python",
   "name": "python3"
  },
  "language_info": {
   "codemirror_mode": {
    "name": "ipython",
    "version": 3
   },
   "file_extension": ".py",
   "mimetype": "text/x-python",
   "name": "python",
   "nbconvert_exporter": "python",
   "pygments_lexer": "ipython3",
   "version": "3.9.18"
  },
  "orig_nbformat": 4,
  "vscode": {
   "interpreter": {
    "hash": "0c12c839adeec326d421be117b103b29d3b0068db2c28a64ae1df63f05821871"
   }
  }
 },
 "nbformat": 4,
 "nbformat_minor": 2
}
