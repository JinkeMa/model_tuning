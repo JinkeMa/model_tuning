{
 "cells": [
  {
   "cell_type": "code",
   "execution_count": 33,
   "metadata": {},
   "outputs": [
    {
     "name": "stdout",
     "output_type": "stream",
     "text": [
      "{'item1': (9, 24.555555555555557), 'item2': (9, 25.11111111111111), 'item3': (9, 22.11111111111111)}\n"
     ]
    }
   ],
   "source": [
    "# yield from <subgenerator>\n",
    "# 作用是把不同的生成器结合在一起使用\n",
    "# 引入yield from 是为了支持实现了__next__、send、close、和throw方法的生成器\n",
    "# 需要注意这几个概念：客户端 - 委托生成器 - 子生成器\n",
    "# yield form在客户端和子生成器之间提供了一个管道可以直接发送和产出值\n",
    "# \n",
    "# 如计算平均值的例子\n",
    "\n",
    "data = {\n",
    "    'item1':[6,14,8,24,26,18,20,34,71],\n",
    "    'item2':[27,6,81,25,19,8,22,15,23],\n",
    "    'item3':[19,32,8,4,39,53,17,13,14],\n",
    "}\n",
    "\n",
    "# 子生成器\n",
    "# 可以看做一个协程，可以挂起suspend与恢复resume\n",
    "def subGenerator():\n",
    "    count   = 0\n",
    "    total   = 0\n",
    "    average = 0\n",
    "    while True:\n",
    "        term = yield # 接收客户端send()的值\n",
    "        if term == None:\n",
    "            break\n",
    "        total += term\n",
    "        count += 1\n",
    "        average = total/count\n",
    "    return (count,average)\n",
    "\n",
    "\n",
    "# 委派生成器\n",
    "def tubeGenerator(results,key):\n",
    "    while True: # 如果不加循环，就只能执行一次next或者send，没法给子生成器发送数据了，虽然可能会造成浪费 每次都多生成一个实例\n",
    "        results[key] = yield from subGenerator() # 停在yield from，等待subGenerator()的返回值，赋给results\n",
    "\n",
    "# 客户端代码\n",
    "def client(data):\n",
    "    results = {}\n",
    "    for key,values in data.items():\n",
    "        Tube = tubeGenerator(results,key) # 创建委托生成器实例Tube，上一次创建的Tube则被垃圾回收\n",
    "        next(Tube) # 启动委托生成器，并停在yield from\n",
    "        for value in values:\n",
    "            Tube.send(value) # 直接发送到子生成器的term，委托生产起感知不到这个值\n",
    "        Tube.send(None) # 结束子生成器，否则Tube会一直被卡住，拿不到返回值\n",
    "    return results\n",
    "\n",
    "results = client(data)\n",
    "print(results)\n"
   ]
  },
  {
   "cell_type": "code",
   "execution_count": null,
   "metadata": {},
   "outputs": [],
   "source": [
    "# test2\n",
    "# 如果yield from后跟的不是子生成器，而是一个可迭代对象，那么作用就基本等于yield\n",
    "# 如下例\n",
    "def func2():\n",
    "    # while True:\n",
    "        yield from data;\n",
    "\n",
    "for i in func2():\n",
    "    print(i)\n"
   ]
  }
 ],
 "metadata": {
  "kernelspec": {
   "display_name": "pytorch",
   "language": "python",
   "name": "python3"
  },
  "language_info": {
   "codemirror_mode": {
    "name": "ipython",
    "version": 3
   },
   "file_extension": ".py",
   "mimetype": "text/x-python",
   "name": "python",
   "nbconvert_exporter": "python",
   "pygments_lexer": "ipython3",
   "version": "3.8.12 (default, Oct 12 2021, 03:01:40) [MSC v.1916 64 bit (AMD64)]"
  },
  "orig_nbformat": 4,
  "vscode": {
   "interpreter": {
    "hash": "0c12c839adeec326d421be117b103b29d3b0068db2c28a64ae1df63f05821871"
   }
  }
 },
 "nbformat": 4,
 "nbformat_minor": 2
}
